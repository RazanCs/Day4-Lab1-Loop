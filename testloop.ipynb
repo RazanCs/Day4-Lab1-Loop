{
 "cells": [
  {
   "cell_type": "code",
   "execution_count": null,
   "id": "3180c78d",
   "metadata": {},
   "outputs": [],
   "source": [
    "for x in range(45, 210):\n",
    " if  x!= 100: \n",
    "elif x== 205: break\n",
    "    print(x)\n"
   ]
  },
  {
   "cell_type": "code",
   "execution_count": null,
   "id": "c2850822",
   "metadata": {},
   "outputs": [],
   "source": [
    "x = int(input(\"what is the product of 7 * 24 ?\"))\n",
    "    \n",
    "while x==168 :\n",
    " print(\"You answered this Question correctly\")\n",
    " \n",
    "else:\n",
    " print(\"Your Answer is wrong try again\")\n",
    " x = int(input(\"what is the product of 7 * 24 ?\"))\n"
   ]
  },
  {
   "cell_type": "code",
   "execution_count": null,
   "id": "aaa24281",
   "metadata": {},
   "outputs": [],
   "source": [
    "for x in range(5):\n",
    "  print(x , end='') "
   ]
  },
  {
   "cell_type": "code",
   "execution_count": null,
   "id": "f2098316",
   "metadata": {},
   "outputs": [],
   "source": []
  }
 ],
 "metadata": {
  "kernelspec": {
   "display_name": "Python 3 (ipykernel)",
   "language": "python",
   "name": "python3"
  },
  "language_info": {
   "codemirror_mode": {
    "name": "ipython",
    "version": 3
   },
   "file_extension": ".py",
   "mimetype": "text/x-python",
   "name": "python",
   "nbconvert_exporter": "python",
   "pygments_lexer": "ipython3",
   "version": "3.9.12"
  }
 },
 "nbformat": 4,
 "nbformat_minor": 5
}
